{
 "cells": [
  {
   "cell_type": "markdown",
   "id": "25873ac6-924b-4a7e-b29d-71fc12afaf92",
   "metadata": {},
   "source": [
    "# Data Science Tools and Ecosystem"
   ]
  },
  {
   "cell_type": "markdown",
   "id": "18e91896-fe97-4026-bcb6-a01eae67116e",
   "metadata": {},
   "source": [
    "In this notebook, Data Science Tools and Ecosystem are summarized."
   ]
  },
  {
   "cell_type": "markdown",
   "id": "251e7171-1449-40da-aabb-7b6cc2528c74",
   "metadata": {},
   "source": [
    "Some of the popular languages that Data Scientists use are:\n",
    "\n",
    "1. R language\n",
    "2. Python\n",
    "3. Juila\n",
    "4. Java\n",
    "5. SQL\n",
    "6. Scala\n",
    "7. MATLAB"
   ]
  },
  {
   "cell_type": "markdown",
   "id": "f3fc499b-3b3d-4e1d-b6b0-16d04546cf0b",
   "metadata": {},
   "source": [
    "**List popular languages for Data Science**\n",
    "\n",
    "- Python\n",
    "- R language\n",
    "+ Juila\n",
    "+ Java\n",
    "* SQL"
   ]
  },
  {
   "cell_type": "markdown",
   "id": "3d826c94-8f06-4cf2-aeda-c80f2489b968",
   "metadata": {},
   "source": [
    "Some of the commonly used libraries used by Data Scientists include:\n",
    "\n",
    "1. Pandas\n",
    "2. NumPy\n",
    "3. Scikit-Learn\n",
    "4. tensorflow\n",
    "5. dplyr\n",
    "6. ggplot2"
   ]
  },
  {
   "cell_type": "markdown",
   "id": "5ccf880b-5c82-46d7-8967-4d7687bc1292",
   "metadata": {},
   "source": [
    "Data Science Tools\n",
    "\n",
    "1. MySQL\n",
    "2. PostgreSQL\n",
    "3. Apache CouchDB\n",
    "4. Apache Airflow\n",
    "5. Kubeflow\n",
    "6. PixieDust\n",
    "7. Hue\n",
    "8. Apache PredictionIO\n",
    "9. ModelDB\n",
    "10. Prometheus"
   ]
  },
  {
   "cell_type": "markdown",
   "id": "deafad02-ef7f-4a04-871c-740013667f87",
   "metadata": {},
   "source": [
    "### Below are a few examples of evaluating arithmetic expressions in Python"
   ]
  },
  {
   "cell_type": "code",
   "execution_count": 19,
   "id": "aa802282-e51f-4f8b-9c51-732b495b75a4",
   "metadata": {},
   "outputs": [
    {
     "data": {
      "text/plain": [
       "17"
      ]
     },
     "execution_count": 19,
     "metadata": {},
     "output_type": "execute_result"
    }
   ],
   "source": [
    " #This a simple arithmetic expression to mutiply then add integers\n",
    "(3*4)+5"
   ]
  },
  {
   "cell_type": "code",
   "execution_count": 29,
   "id": "6515a54c-d9ca-4469-843c-930aac8c2e12",
   "metadata": {},
   "outputs": [
    {
     "name": "stdout",
     "output_type": "stream",
     "text": [
      "200 minutes to hours is  3 hours and  20 minutes.\n"
     ]
    }
   ],
   "source": [
    "# This will convert 200 minutes to hours by diving by 60\n",
    "hrs = 200 // 60\n",
    "mins = 200 % 60\n",
    "print(\"200 minutes to hours is \",hrs,\"hours and \",mins,\"minutes.\")"
   ]
  },
  {
   "cell_type": "markdown",
   "id": "e27296b5-6e62-4afe-9d5a-4ea6eab61b2a",
   "metadata": {},
   "source": [
    "## Author\n",
    "HSIN-JU, LIU"
   ]
  }
 ],
 "metadata": {
  "kernelspec": {
   "display_name": "Python [conda env:base] *",
   "language": "python",
   "name": "conda-base-py"
  },
  "language_info": {
   "codemirror_mode": {
    "name": "ipython",
    "version": 3
   },
   "file_extension": ".py",
   "mimetype": "text/x-python",
   "name": "python",
   "nbconvert_exporter": "python",
   "pygments_lexer": "ipython3",
   "version": "3.12.7"
  }
 },
 "nbformat": 4,
 "nbformat_minor": 5
}
